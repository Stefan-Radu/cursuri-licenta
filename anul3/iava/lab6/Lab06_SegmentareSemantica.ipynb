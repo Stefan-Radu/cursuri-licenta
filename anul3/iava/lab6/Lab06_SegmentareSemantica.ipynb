{
  "nbformat": 4,
  "nbformat_minor": 0,
  "metadata": {
    "colab": {
      "name": "Lab06_SegmentareSemantica.ipynb",
      "provenance": [],
      "collapsed_sections": []
    },
    "kernelspec": {
      "name": "python3",
      "display_name": "Python 3"
    },
    "language_info": {
      "name": "python"
    },
    "accelerator": "GPU"
  },
  "cells": [
    {
      "cell_type": "markdown",
      "source": [
        "# Laboratorul 6 - Segmentare Semantica"
      ],
      "metadata": {
        "id": "EZU76m69Xj0f"
      }
    },
    {
      "cell_type": "markdown",
      "metadata": {
        "id": "g1-9gKF7c1I2"
      },
      "source": [
        "## Intro \n",
        "\n",
        "Task-ul pentru acest laborator consta in implementarea si antrenarea unei retele complet convolutionale ([Fully Convolutional Networks](https://www.cv-foundation.org/openaccess/content_cvpr_2015/papers/Long_Fully_Convolutional_Networks_2015_CVPR_paper.pdf)) folosita pentru segmentarea semantica a imaginilor (clasificare la nivel de pixel). \n",
        "\n",
        "Tema voastra este sa implementati cele 3 variante ale arhitecturii (FCN-32s, FCN-16s si FCN-8s) si sa antrenati retelele pentru a clasifica fiecare pixel din imagine. Pentru aceste exercitii se va folosi detul de date [Kitti Road](http://www.cvlibs.net/datasets/kitti/eval_road.php), unde scopul este sa obtinem segmentarea semantica a drumurilor. \n",
        "\n",
        "\n",
        "\n",
        "## De ce FCN?\n",
        "\n",
        "O retea convolutionala normala consta dintr-o serie de straturi convolutionale, urmata de straturi fully connected si, in cele din urma, de o functie de activare Softmax. Aceasta este o arhitectura buna pentru clasificare, insa straturile fully connected nu pastreaza informatia spatiala. Avantajul retelei FCN este ca aceasta pastreaza informatia spatiala in intreaga retea (FCN functioneaza cu imagini de orice dimensiune).\n",
        "\n",
        "Din punct de vedere structural, FCN este compusa din doua parti: encoder (blocuri de downsampling - [VGG](https://arxiv.org/pdf/1409.1556.pdf))  si decoder (blocuri de upsampling - o arhitectura \"skip\" care combina informatie semantica globala (din ultimele straturi \"deep\" ale retelei) cu informatii de aspect (mai fine, din layerele mai \"shallow\") pentru a produce segmentari cat mai precise si detaliate). \n",
        "Segmentarea semantică se confruntă cu o tensiune inerentă între semantică și locație: informațiile globale rezolva problema clasei - \"CE\" (clasificare in cazul mai multor clase semantice), în timp ce informațiile locale rezolvă \"UNDE\". \n",
        "\n",
        "---\n",
        "\n",
        "![alt text](https://www.researchgate.net/publication/324787148/figure/fig4/AS:619840926670848@1524793001425/FCN-VGG16-network-with-skip-architecture.png)"
      ]
    },
    {
      "cell_type": "markdown",
      "source": [
        "##Descarcarea setului de date "
      ],
      "metadata": {
        "id": "2PtSjd_5fohE"
      }
    },
    {
      "cell_type": "code",
      "metadata": {
        "id": "nE-LtjCBdOnV"
      },
      "source": [
        "!mkdir ./data ./runs ./saved_models\n",
        "# Download and unzip the dataset\n",
        "!wget --progress=bar:force https://s3.eu-central-1.amazonaws.com/avg-kitti/data_road.zip -P ./data\n",
        "!unzip -q ./data/data_road.zip -d ./data"
      ],
      "execution_count": null,
      "outputs": []
    },
    {
      "cell_type": "markdown",
      "metadata": {
        "id": "mATRKjc2l3zK"
      },
      "source": [
        "# Pregatirea setului de date\n",
        "\n",
        "In celula de mai jos sunt implementate clasele de tipul torch.utils.data.Dataset ce vor fi folosite pentru a itera prin seturile de date de antrenare si de test din Kitti Road Segmentation. \n",
        "\n",
        "De asemenea sunt implementate doua functii *collate_fn()* una pentru antrenare ce returneaza si imagini si adnotari, si una pentru testare ce returneaza doar imagini.\n",
        "\n",
        "In final sunt instantiate 3 obiecte torch.utils.data.DataLoader: unul pentru antrenare, unul pentru testare si unul pentru vizualizare.\n",
        "\n",
        "\n"
      ]
    },
    {
      "cell_type": "code",
      "metadata": {
        "id": "AkLBiBP7eE8l",
        "colab": {
          "base_uri": "https://localhost:8080/",
          "height": 247
        },
        "outputId": "a7d3cfb7-62b7-49f3-f5be-eb9301222bd8"
      },
      "source": [
        "import os\n",
        "import glob\n",
        "\n",
        "import cv2\n",
        "import numpy as np\n",
        "import matplotlib.pyplot as plt\n",
        "import matplotlib.image as mpimg\n",
        "from torch.utils.data import Dataset, DataLoader\n",
        "from torchvision.transforms.functional import normalize, to_tensor\n",
        "\n",
        "%matplotlib inline\n",
        "\n",
        "TRAIN_IMAGES_PATH = \"./data/data_road/training/image_2\"\n",
        "TRAIN_LABELS_PATH = \"./data/data_road/training/gt_image_2\"\n",
        "TEST_IMAGES_PATH = \"./data/data_road/testing/image_2\"\n",
        "\n",
        "\n",
        "def collate_fn_train(examples):\n",
        "\n",
        "  images = []\n",
        "  labels = []\n",
        "  for example in examples:\n",
        "    image, label = example\n",
        "\n",
        "    image = to_tensor(image)\n",
        "    image = normalize(image, [0.5, 0.5, 0.5], [0.5, 0.5, 0.5]) # normalize the image tensor to [-1, 1] on each channel: img_norm = (img - data_mean) / data_std \n",
        "    image = image.unsqueeze(0) \n",
        "    label = torch.tensor(label).unsqueeze(0)\n",
        "    images.append(image)\n",
        "    labels.append(label)\n",
        "  \n",
        "  images_batch = torch.cat(images)\n",
        "  labels_batch = torch.cat(labels)\n",
        "\n",
        "  return images_batch, labels_batch\n",
        "\n",
        "def collate_fn_test(examples):\n",
        "  images = []\n",
        "  for example in examples:\n",
        "    image = example\n",
        "    image = to_tensor(image)\n",
        "    image = normalize(image, [0.5, 0.5, 0.5], [0.5, 0.5, 0.5]) # on test set we apply the same normalization \n",
        "    image = image.unsqueeze(0)\n",
        "    images.append(image)\n",
        "\n",
        "  images_batch = torch.cat(images)\n",
        "\n",
        "  return images_batch\n",
        "\n",
        "class KittiImageDataset(Dataset):\n",
        "\n",
        "  def __init__(self, images_root, original_shape=(1242, 375) ,\n",
        "               load_shape=(384, 128)):\n",
        "    self.images_root = images_root\n",
        "    self.original_shape = original_shape\n",
        "    self.load_shape = load_shape\n",
        "    self.images = list(sorted(glob.glob(os.path.join(TRAIN_IMAGES_PATH ,'*'))))\n",
        "\n",
        "  def __getitem__(self, idx):\n",
        "    image = cv2.imread(self.images[idx])\n",
        "    image = cv2.resize(image, self.load_shape)\n",
        "\n",
        "    return image\n",
        "\n",
        "  def __len__(self):\n",
        "    return len(self.images)\n",
        "\n",
        "class KittiTrainDataset(KittiImageDataset):\n",
        "\n",
        "  def __init__(self, images_root, labels_root, original_shape=(1242, 375) ,\n",
        "               load_shape=(384, 128)):\n",
        "    super(KittiTrainDataset, self).__init__(images_root, original_shape=original_shape, \n",
        "                                            load_shape=load_shape)\n",
        "    self.labels_root = labels_root\n",
        "    self.labels = list(sorted(glob.glob(os.path.join(TRAIN_LABELS_PATH, '*_road_*'))))\n",
        "\n",
        "  def __getitem__(self, idx):\n",
        "    image = super(KittiTrainDataset, self).__getitem__(idx)\n",
        "    label = cv2.imread(self.labels[idx])\n",
        "    label = cv2.resize(label, self.load_shape, interpolation=cv2.INTER_NEAREST)  # resize labels to same 'load_shape' as the image\n",
        "    # Initially label images are RGB images with the following color code: the road (lane) as magenta, non-road areas as red and other road surfaces as black\n",
        "    # For our project we are interested in black and magenta areas, so we will process the label images by summing over the channel dimension in order to obtain\n",
        "    # a binary image, where \"1\" denotes background and \"0\" denotes the road areas. \n",
        "    new_label = label.sum(axis=2) \n",
        "    new_label = np.where(new_label == 255, 1, 0)\n",
        "    \n",
        "    return image, new_label\n",
        "\n",
        "  def __len__(self):\n",
        "    assert len(self.images) == len(self.labels)\n",
        "    return len(self.images)\n",
        "\n",
        "# Create train dataset object\n",
        "train_dataset = KittiTrainDataset(TRAIN_IMAGES_PATH, TRAIN_LABELS_PATH)\n",
        "\n",
        "# Create test dataset object\n",
        "test_dataset = KittiImageDataset(TEST_IMAGES_PATH)\n",
        "\n",
        "# Create dataloaders for visualization, train and test\n",
        "vis_dataloader = DataLoader(train_dataset, shuffle=True)\n",
        "train_dataloader = DataLoader(train_dataset, batch_size=8, shuffle=True, \n",
        "                              num_workers=2, collate_fn=collate_fn_train)\n",
        "test_dataloader = DataLoader(test_dataset, shuffle=True, collate_fn=collate_fn_test)\n",
        "\n",
        "\n",
        "num_samples = 10 \n",
        "vis_iter = iter(vis_dataloader)\n",
        "for i in range(num_samples):\n",
        "  image, label = vis_iter.next()\n",
        "  image = image.squeeze(0).numpy()\n",
        "  label = label.squeeze(0).numpy()\n",
        "  plt.subplot(num_samples, 2, 2*i+1)\n",
        "  plt.axis('off')\n",
        "  plt.imshow(image, None)\n",
        "  plt.subplot(num_samples, 2, 2*i+2)\n",
        "  plt.axis('off')\n",
        "  plt.imshow(label[:,:], 'jet')"
      ],
      "execution_count": null,
      "outputs": [
        {
          "output_type": "display_data",
          "data": {
            "text/plain": [
              "<Figure size 432x288 with 20 Axes>"
            ],
            "image/png": "[encoded data removed]"
          },
          "metadata": {
            "needs_background": "light"
          }
        }
      ]
    },
    {
      "cell_type": "markdown",
      "metadata": {
        "id": "07VXQldrmBTJ"
      },
      "source": [
        "# Implementarea Retelei FCN\n",
        "\n",
        "Arhitectura contine:\n",
        " * un encoder VGG folosit pentru operatia de downsampling (este un exemplu excelent pentru transferul de cunoștințe (transfer learning) din rețele moderne de clasificare, cum ar fi VGG16, Alexnet, etc. pentru a efectua segmentarea semantică; acest encoder este initializat cu weight-urile preantrenate pe Imagenet).\n",
        " * una sau mai multe operatii de upsample (convolutii transposed)\n",
        " * skip connections intre blocurile de downsampling si upsampling\n",
        "\n",
        "## Cerinta\n",
        "Task-ul vostru este sa implementati cele 3 clase care reprezinta cele 3 variante ale FCN: FCN-32s, FCN-16s si FCN-8s. (asa cum se regaseste in imaginea de mai sus).\n",
        "\n",
        "\n",
        "\n",
        " **Hint:** \n",
        "  * Folositi imaginea de mai sus a arhitecturii ca referinta \n",
        "  * Folosind SelectiveSequential, putem extrage activari intermediare din encoder. Layer-ul '16' este MaxPool3, '23' este MaxPool4 iar '30' este MaxPool5 (corespunzator imaginii arhitecturii FCN)\n",
        "  * Output-ul encoder-ului nostru este Maxpool5 (puteti ignora portiunea dintre conv6 si conv8, sunt necesare operatii extra pentru a transforma layere Fully-Connected in Convolutions - nu este in scopul acestui laborator)"
      ]
    },
    {
      "cell_type": "code",
      "metadata": {
        "id": "qXSEi6A4l84p"
      },
      "source": [
        "import torch\n",
        "import torch.nn as nn\n",
        "import torchvision.models as models\n",
        "\n",
        "class SelectiveSequential(nn.Module):\n",
        "  def __init__(self, to_select, modules_dict):\n",
        "    \"\"\"Helper class - pentru extragea activarilor intermediare\"\"\"\n",
        "    super(SelectiveSequential, self).__init__()\n",
        "    for key, module in modules_dict.items():\n",
        "      self.add_module(key, module)\n",
        "    self._to_select = to_select\n",
        "  \n",
        "  def forward(self, x):\n",
        "    list = []\n",
        "    for name, module in self._modules.items():\n",
        "      x = module(x)\n",
        "      if name in self._to_select:\n",
        "        list.append(x)\n",
        "    return list\n",
        "\n",
        "\n",
        "class FCN(nn.Module):\n",
        "  \"\"\"Main FCN Class\"\"\"\n",
        "  def __init__(self):\n",
        "    \"\"\"Constructor\n",
        "\n",
        "    Encoder-ul folosit pentru aceasta arhitectura este VGG16. \n",
        "    Pentru a implementa skip connections vom avea nevoie de activari intermediare\n",
        "    (dupa pool3, pool4 si ultimul layer convolutional al encoder-ului)\n",
        "    \"\"\"\n",
        "    super(FCN, self).__init__()\n",
        "    vgg16 = models.vgg16(pretrained=True) # Incarca VGG16 (pretrained) din torchvision\n",
        "    vgg16_convs = list(vgg16.children())[:-2] # Eliminam layerele de care nu avem nevoie \n",
        "\n",
        "    # Cele 3 layers ale caror feature maps le vom folosi la skip-connections \n",
        "    self.encoder = SelectiveSequential(['16', '23', '30'], vgg16_convs[0]._modules)\n",
        "\n",
        "\n",
        "class FCN32(FCN):\n",
        "  def __init__(self):\n",
        "    super(FCN32, self).__init__()\n",
        "    #### Codul vostru\n",
        "    # self.upsample32 = ... \n",
        "    \n",
        "  def forward(self, img):\n",
        "    # Extrageti feature-uri din encoder de la layerul corespunzator si treceti rezultatul prin layerul de upsample\n",
        "    #### Codul vostru\n",
        "\n",
        "    pass\n",
        "\n",
        "\n",
        "class FCN16(FCN):\n",
        "  def __init__(self, variant='None'):\n",
        "    super(FCN16, self).__init__()\n",
        "    #### Codul vostru\n",
        "    # self.upsample2 = ...\n",
        "    # self.upsample16 = ...\n",
        "\n",
        "  def forward(self, img):\n",
        "      pass\n",
        "\n",
        "\n",
        "class FCN8(FCN):\n",
        "  def __init__(self, variant='None'):\n",
        "    super(FCN8, self).__init__()\n",
        "    #### Codul vostru\n",
        "    # self.upsample2 = ...\n",
        "    # self.upsample4 = ...\n",
        "    # self.upsample32 = ...\n",
        "    \n",
        "  def forward(self, img):\n",
        "    #### Codul vostru\n",
        "    pass"
      ],
      "execution_count": null,
      "outputs": []
    },
    {
      "cell_type": "markdown",
      "metadata": {
        "id": "2c39_QRSIlh7"
      },
      "source": [
        "# Antrenarea retelei"
      ]
    },
    {
      "cell_type": "code",
      "metadata": {
        "id": "D5lHNlw8Im1P"
      },
      "source": [
        "fcn = FCN32().cuda()\n",
        "stop = 0\n",
        "\n",
        "import torch.optim as optim\n",
        "\n",
        "num_epochs =  10#@param\n",
        "learning_rate = 0.0003 #@param\n",
        "\n",
        "# Initializam functia de loss\n",
        "loss_fn = nn.CrossEntropyLoss()\n",
        "\n",
        "# Initializam optimizatorul\n",
        "optimizer = optim.Adam(fcn.parameters(), lr=learning_rate)\n",
        "optimizer.zero_grad()\n",
        "\n",
        "# Antrenarea retelei\n",
        "for epoch in range(num_epochs):\n",
        "  for idx, (image, label) in enumerate(train_dataloader):\n",
        "    pred = fcn(image.cuda())\n",
        "    loss = loss_fn(pred, label.cuda())\n",
        "\n",
        "    loss.backward()\n",
        "    optimizer.step()\n",
        "    optimizer.zero_grad()\n",
        "\n",
        "    if idx % 10 == 0:\n",
        "      print(\"Epoch {} - Iter {} - Loss {}\".format(epoch, idx, loss.item()))"
      ],
      "execution_count": null,
      "outputs": []
    },
    {
      "cell_type": "markdown",
      "metadata": {
        "id": "BdmW0zpwIvM4"
      },
      "source": [
        "# Rularea retelei pe setul de date de test si vizualizare\n",
        "\n",
        "## Cerinta\n",
        " * Procesati iesirea retelei pentru a vizualiza masca de segmentare prezisa ca in celula pentru pregatirea setului de date.\n",
        "\n",
        "**Hints**\n",
        " * Iesirea va fi un feature map de dimensiunea imaginii de intrare cu 2 canale.\n",
        " * Pentru fiecare pixel canalele trebuiesc transformate intr-o distributie de probabilitati (Softmax)\n",
        " * Transformati intr-o imagine cu un singur canal cu valori 255 pentru clasa 'road' si 0 pentru clasa 'background'"
      ]
    },
    {
      "cell_type": "code",
      "metadata": {
        "id": "BwS84fjvJE3U"
      },
      "source": [
        "fcn.eval() # set model in eval mode\n",
        "\n",
        "num_to_show = 10\n",
        "\n",
        "softmax = nn.Softmax(dim=1)\n",
        "# Ne asiguram ca nu se pot propaga gradienti prin retea\n",
        "with torch.no_grad():\n",
        "  for idx, image in enumerate(test_dataloader):\n",
        "\n",
        "    if idx > num_to_show:\n",
        "      break\n",
        "\n",
        "    logits = fcn(image.cuda()) \n",
        "\n",
        "    # Postprocesarea imaginii pentru a fi vizualizata\n",
        "    image = (image.squeeze(0).clone().cpu().numpy().transpose(1, 2, 0) + 1) / 2.0\n",
        "\n",
        "    #### Codul vostru aici - postprocesarea iesirii retelei pentru a \n",
        "    #### fi vizualizata\n",
        "    # pred = ...\n",
        "    \n",
        "    # Cod de vizualizare\n",
        "    fig = plt.figure()\n",
        "    ax = fig.add_subplot(1, 2, 1)\n",
        "    plt.imshow(image)\n",
        "    ax = fig.add_subplot(1, 2, 2)\n",
        "    plt.imshow(pred)\n",
        "    \n",
        "    \n"
      ],
      "execution_count": null,
      "outputs": []
    }
  ]
}