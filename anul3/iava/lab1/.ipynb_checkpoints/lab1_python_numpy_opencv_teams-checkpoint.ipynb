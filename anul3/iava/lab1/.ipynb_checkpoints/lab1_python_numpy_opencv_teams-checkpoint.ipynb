{
 "cells": [
  {
   "cell_type": "markdown",
   "metadata": {
    "id": "ZvB5QUmcX1Qi"
   },
   "source": [
    "# **Laborator 1**"
   ]
  },
  {
   "cell_type": "markdown",
   "metadata": {
    "id": "IB_ZL1mkJPv9"
   },
   "source": [
    "## Python"
   ]
  },
  {
   "cell_type": "markdown",
   "metadata": {
    "id": "IRhapZuqf4Gp"
   },
   "source": [
    "**Tipuri de date**"
   ]
  },
  {
   "cell_type": "code",
   "execution_count": null,
   "metadata": {
    "collapsed": true,
    "id": "18feIuuLeyCW"
   },
   "outputs": [],
   "source": [
    "a = 2 # declarare int\n",
    "print(type(a))\n",
    "\n",
    "a = 2.0 # declarare float\n",
    "print(type(a))\n",
    "\n",
    "a = \"2\" # declarare string\n",
    "print(type(a))\n",
    "\n",
    "a = 1+2j # numere complexe\n",
    "print(type(a))\n",
    "\n",
    "a = [2] # liste\n",
    "print(type(a))\n",
    "\n",
    "a = (\"2\", 2) # tuplu\n",
    "print(type(a))\n",
    "\n",
    "a = {\"Nota\": 2} # dictionar\n",
    "print(type(a))\n",
    "\n",
    "print(isinstance(a, int))\n",
    "print(isinstance(a, dict))"
   ]
  },
  {
   "cell_type": "markdown",
   "metadata": {
    "id": "itA5gJ2ff9Sk"
   },
   "source": [
    "**Liste**\n",
    " * Definire si Indexare"
   ]
  },
  {
   "cell_type": "code",
   "execution_count": null,
   "metadata": {
    "id": "uOBFhDdyPQk1"
   },
   "outputs": [],
   "source": [
    "a = [1, 2, 3, 4, 5]\n",
    "print(a) \n",
    "print(a[0])    # primul element\n",
    "print(a[:2])   # primele doua elemente\n",
    "print(a[-2:])  # ultimilele doua elemente\n",
    "print(a[2:4])  # intervalul [2, 4)\n",
    "print(a[::2])  # printeaza cu salt doi\n",
    "print(a[::-1]) # printeaza cu pas invers"
   ]
  },
  {
   "cell_type": "code",
   "execution_count": null,
   "metadata": {
    "id": "QnrEsKjhfhTh"
   },
   "outputs": [],
   "source": [
    "a = [\"Greta\", \"are\", 2, (\"cosuri cu\", \"mere\")]\n",
    "print(a)"
   ]
  },
  {
   "cell_type": "markdown",
   "metadata": {
    "id": "vqaFliO9ggnm"
   },
   "source": [
    "**List comprehension**"
   ]
  },
  {
   "cell_type": "code",
   "execution_count": null,
   "metadata": {
    "id": "wvOzsB7JRj5o"
   },
   "outputs": [],
   "source": [
    "a = [i * i for i in range(10)] # echivalent cu for-ul de mai jos\n",
    "print(a)\n",
    "\n",
    "a = []\n",
    "for i in range(10):\n",
    "  a.append(i * i)\n",
    "print(a)"
   ]
  },
  {
   "cell_type": "code",
   "execution_count": null,
   "metadata": {
    "id": "ZOaRKrq4glBN"
   },
   "outputs": [],
   "source": [
    "a = [\"Greta\", \"are\", 2, (\"cosuri cu\", \"mere\")]\n",
    "a = [x for x in a if isinstance(x, str)] # list comprehension cu filtrare\n",
    "a"
   ]
  },
  {
   "cell_type": "markdown",
   "metadata": {
    "id": "eQ1WABDogEBu"
   },
   "source": [
    "**Siruri de caractere**"
   ]
  },
  {
   "cell_type": "code",
   "execution_count": null,
   "metadata": {
    "collapsed": true,
    "id": "0-cNaGtwgFhh"
   },
   "outputs": [],
   "source": [
    "s = \"Greta are doua cosuri cu mere\"\n",
    "print(s[:10]) # afiseaza primele 10 caractere din s\n",
    "\n",
    "a = [c for c in s if c in \"aeiou\"] # filtrare vocale\n",
    "print(a)\n",
    "\n",
    "a = \"/\".join(a) # concatenare cu separator\n",
    "print(a)\n",
    "\n",
    "a = s.split(\" \") # despartire dupa token\n",
    "print(a)"
   ]
  },
  {
   "cell_type": "markdown",
   "metadata": {
    "id": "OH8VDdwPgGWo"
   },
   "source": [
    "**Operatori**"
   ]
  },
  {
   "cell_type": "code",
   "execution_count": null,
   "metadata": {
    "id": "e4F_QXY5gxPG"
   },
   "outputs": [],
   "source": [
    "print(2 + 3)      # adunare\n",
    "print(12.5 - 3)   # scadere\n",
    "print(2 * 3)      # inmultire\n",
    "print(2 / 3)      # impartire\n",
    "\n",
    "\n",
    "print(2 // 3)     # impartire intreaga\n",
    "print(2 % 3)      # restul impartirii\n",
    "print(2 ** 3)     # ridicare la putere\n",
    "\n",
    "\n",
    "print([2] + [3])  # concatenare liste\n",
    "print([2] * 3)    # multiplicare lista"
   ]
  },
  {
   "cell_type": "markdown",
   "metadata": {
    "id": "KuV-31Y8k5Cm"
   },
   "source": [
    "**Operatori specifici Python**"
   ]
  },
  {
   "cell_type": "code",
   "execution_count": null,
   "metadata": {
    "id": "RrAW6DoNjbLw"
   },
   "outputs": [],
   "source": [
    "# returneaza un obiect iterabil care enumera de la 0 pana la 9\n",
    "for i in range(10):\n",
    "  print(i)"
   ]
  },
  {
   "cell_type": "code",
   "execution_count": null,
   "metadata": {
    "id": "MrW9vHGvUrqM"
   },
   "outputs": [],
   "source": [
    "# returneaza un obiect iterabil care enumera de la 1 pana la 9 din 3 in 3\n",
    "for i in range(1, 10, 3):\n",
    "  print(i)"
   ]
  },
  {
   "cell_type": "code",
   "execution_count": null,
   "metadata": {
    "id": "61-VrNPnVA0K"
   },
   "outputs": [],
   "source": [
    "x = [a**2 for a in range(10)] \n",
    "y = [b**3 for b in range(10)]\n",
    "\n",
    "print(\"x =\", x)\n",
    "print(\"y =\", y)"
   ]
  },
  {
   "cell_type": "code",
   "execution_count": null,
   "metadata": {
    "id": "cZCP2UMtU4g_"
   },
   "outputs": [],
   "source": [
    "# returneaza un obiect iterabil care enumera tupluri de forma (index, element) \n",
    "# unde element = x[index] \n",
    "for idx, elem in enumerate(x):\n",
    "  print(idx, elem)"
   ]
  },
  {
   "cell_type": "code",
   "execution_count": null,
   "metadata": {
    "id": "JzvOvnBgU57K"
   },
   "outputs": [],
   "source": [
    "# combina doua liste element cu element\n",
    "for x_elem,y_elem in zip(x,y): \n",
    "  print(x_elem,y_elem)"
   ]
  },
  {
   "cell_type": "markdown",
   "metadata": {
    "id": "ndSpEew80Rds"
   },
   "source": [
    "**Dictionare**"
   ]
  },
  {
   "cell_type": "code",
   "execution_count": null,
   "metadata": {
    "id": "Q54XjIyWlbDi"
   },
   "outputs": [],
   "source": [
    "x = {'a': 5, 'b': 3}\n",
    "\n",
    "print(x.items())\n",
    "print(x.keys())\n",
    "print(x.values())\n",
    "\n",
    "for key, v in x.items():\n",
    "  print(key,v)"
   ]
  },
  {
   "cell_type": "markdown",
   "metadata": {
    "id": "lpPDsq7PIeiY"
   },
   "source": [
    "**Functii**"
   ]
  },
  {
   "cell_type": "code",
   "execution_count": null,
   "metadata": {
    "id": "zeWNzCPbVppe"
   },
   "outputs": [],
   "source": [
    "def functia_mea():\n",
    "  print(\"Hello world\")\n",
    "\n",
    "\n",
    "functia_mea()"
   ]
  },
  {
   "cell_type": "code",
   "execution_count": null,
   "metadata": {
    "id": "oxTrlrhgVvw1"
   },
   "outputs": [],
   "source": [
    "def add_one(n):\n",
    "  return n + 1\n",
    "\n",
    "\n",
    "print(add_one(5))"
   ]
  },
  {
   "cell_type": "markdown",
   "metadata": {
    "id": "xmWAaeHCYPjq"
   },
   "source": [
    "**Exercitiu (2p)**\n",
    "\n",
    "1. Construiti o functie care primeste ca parametri doua numere intregi **a** si **b**. Functia returneaza o lista cu toate numerele impare din intervalul $[a,b]$, folosind *list comprehension*. **(1p)**\n",
    "\n",
    "2. Modificati list comprehension astfel incat numerele impare din lista returnata sa indeplineasca si o conditie la alegere, data printr-o functie (e.g. doar numerele mai mari ca 50). **(1p)**\n"
   ]
  },
  {
   "cell_type": "code",
   "execution_count": null,
   "metadata": {
    "id": "cifIo0RQXeBz"
   },
   "outputs": [],
   "source": [
    "# tip: puteti folosi range funciton pentru a obtine numere dintr-un interval dat\n",
    "# tip: puteti afla informatii despre API-ul Python referitor la o functie folosind sintaxa func?\n",
    "range?"
   ]
  },
  {
   "cell_type": "code",
   "execution_count": null,
   "metadata": {
    "id": "d7qUgPCDYq-d"
   },
   "outputs": [],
   "source": [
    "def cond(n):\n",
    "  pass\n",
    "  \n",
    "\n",
    "def gen_list(a: int, b: int):\n",
    "  pass\n",
    "\n",
    "\n",
    "gen_list(1, 100)"
   ]
  },
  {
   "cell_type": "markdown",
   "metadata": {
    "id": "1lF-YppW0Vbh"
   },
   "source": [
    "**Clase impreuna cu liste**"
   ]
  },
  {
   "cell_type": "code",
   "execution_count": null,
   "metadata": {
    "id": "uescs4m7mVTj"
   },
   "outputs": [],
   "source": [
    "class A:\n",
    "  # constructor\n",
    "  def __init__(self, x): \n",
    "    # self se refera la obiectul curent (ca this)\n",
    "    self.x = x\n",
    "\n",
    "\n",
    "  # metoda (functia clasei)\n",
    "  def get_x(self):\n",
    "    # print (type(self))\n",
    "  \n",
    "    return self.x\n",
    "    \n",
    "\n",
    "our_object = A(5)\n",
    "print(\"Valoarea lui x este\", our_object.get_x())\n",
    "\n",
    "a_uri = [A(3)]*5\n",
    "for obiect in a_uri:\n",
    "  print(obiect.x, end=' ')\n",
    "  \n",
    "print()\n",
    "\n",
    "a_uri[3].x = 6\n",
    "\n",
    "for obiect in a_uri:\n",
    "  print(obiect.x, obiect.get_x())\n"
   ]
  },
  {
   "cell_type": "markdown",
   "metadata": {
    "id": "SGAAOJypJUv-"
   },
   "source": [
    "## Numpy"
   ]
  },
  {
   "cell_type": "markdown",
   "metadata": {
    "id": "cgtiHsk7nRBz"
   },
   "source": [
    "[NumPy](https://numpy.org/devdocs/user/whatisnumpy.html) este un pachet Python care pune la dispozitie functionalitati pentru calcululul numeric din algebra liniara (similar cu matlab/octave). \n",
    "\n",
    "**Foarte important**: strcutura de baza in **numpy**, ca de alftel in algebra liniara, este matricea."
   ]
  },
  {
   "cell_type": "code",
   "execution_count": null,
   "metadata": {
    "id": "JJVhKOwdnQU2"
   },
   "outputs": [],
   "source": [
    "import numpy as np\n",
    "\n",
    "l = [[0,2,3,4],[3,5,6,7],[4,6,7,8]]\n",
    "print(l, '\\n')\n",
    "\n",
    "# crearea unui obiect de tip np.ndarray\n",
    "np_l = np.array(l)\n",
    "print(np_l, '\\n')\n",
    "\n",
    "# indexare conditionala\n",
    "np_l[np_l > 5] = -1\n",
    "print(np_l)"
   ]
  },
  {
   "cell_type": "markdown",
   "metadata": {
    "id": "iNmdBn5p0lNi"
   },
   "source": [
    "Operatii algebrice cu matrice si vectori de tip np.ndarray"
   ]
  },
  {
   "cell_type": "code",
   "execution_count": null,
   "metadata": {
    "id": "dqU37QPInsIP"
   },
   "outputs": [],
   "source": [
    "print(l*3, '\\n')\n",
    "\n",
    "print(np_l*3, '\\n')\n",
    "\n",
    "print(np_l+np_l, '\\n')\n",
    "\n",
    "print(np_l*np_l, '\\n') # element-wise \n",
    "\n",
    "print(np.dot(np_l,np_l.T), '\\n') # matrix-wise\n",
    "\n",
    "print(np.dot(np_l.T,np_l), '\\n') # matrix-wise\n",
    "\n",
    "print(np_l+np_l[0], '\\n') # broadcasting https://numpy.org/doc/stable/user/basics.broadcasting.html"
   ]
  },
  {
   "cell_type": "markdown",
   "metadata": {
    "id": "JKZtH-wa0ySV"
   },
   "source": [
    "Dimensiuni, redimensionare, concatenare si indexare pe mai multe dimensiuni"
   ]
  },
  {
   "cell_type": "code",
   "execution_count": null,
   "metadata": {
    "id": "8EQYVPyXnyiS"
   },
   "outputs": [],
   "source": [
    "print(np_l.shape, '\\n')\n",
    "print(len(np_l))"
   ]
  },
  {
   "cell_type": "code",
   "execution_count": null,
   "metadata": {
    "id": "inJE1WksoDO_"
   },
   "outputs": [],
   "source": [
    "print(np_l[:,1], '\\n')\n",
    "print(np_l[0:2,1])"
   ]
  },
  {
   "cell_type": "code",
   "execution_count": null,
   "metadata": {
    "id": "skwI2pCloXjb"
   },
   "outputs": [],
   "source": [
    "x = np.random.random(size=(3,5))\n",
    "print(x, '\\n')\n",
    "print(x.shape, '\\n')\n",
    "print(x.reshape(1,15).shape, '\\n')\n",
    "print(x.reshape(5,-1).shape)"
   ]
  },
  {
   "cell_type": "code",
   "execution_count": null,
   "metadata": {
    "id": "SJkjuMZZdfSL"
   },
   "outputs": [],
   "source": [
    "c = np.random.choice([1,4,7])\n",
    "print(c)"
   ]
  },
  {
   "cell_type": "code",
   "execution_count": null,
   "metadata": {
    "id": "PA2QT3PIoh34"
   },
   "outputs": [],
   "source": [
    "x = np.array([1,2,3])\n",
    "print(np.repeat(x,3), '\\n')\n",
    "\n",
    "print(np.repeat(x[np.newaxis, :], 3, axis=0), '\\n')\n",
    "print(np.repeat(x[:, np.newaxis], 3, axis=1), '\\n')\n",
    "\n",
    "print(np.tile(x,3), '\\n')\n",
    "\n",
    "print(np.concatenate((x,x)), '\\n')\n",
    "\n",
    "cat = np.concatenate((x[np.newaxis,:2],x[np.newaxis, :2]), axis=0)\n",
    "print(cat, '\\n')\n",
    "print(np.concatenate((cat, cat), axis=1))"
   ]
  },
  {
   "cell_type": "markdown",
   "metadata": {
    "id": "5VA0IPHk2wI0"
   },
   "source": [
    "**Liniarizarea unei matrici. Parcurgeri pe linii si coloane**\n",
    "\n",
    "O matrice $A (m,n)$ - *m* linii si *n* coloane - poata fi parcursa:\n",
    "- *row-major* order - pe linii si apoi pe coloane\n",
    "- *column-major* order - pe coloane si apoi pe linii\n"
   ]
  },
  {
   "cell_type": "code",
   "execution_count": null,
   "metadata": {
    "id": "UKA6Coms3ONa"
   },
   "outputs": [],
   "source": [
    "import numpy as np\n",
    "\n",
    "# creare obiect de tip np.ndarray\n",
    "A = np.array([[ 0,  1,  2,  3 ],\n",
    "              [ 4,  5,  6,  7 ],\n",
    "              [ 8,  9, 10, 11 ]])\n",
    "\n",
    "print(A)\n",
    "print(A.shape, \"\\n\")\n",
    "\n",
    "print(A.transpose())\n",
    "print(A.transpose().shape, \"\\n\")\n",
    "\n",
    "# prima dimensiuen este linia si a doua este coloana.\n",
    "m, n = A.shape # tuple assignment (m,n) = (3, 4)\n",
    "\n",
    "row_major = []\n",
    "for i in range(m):\n",
    "  # for each line\n",
    "  for j in range(n):\n",
    "    # for each column\n",
    "    row_major.append(A[i,j])\n",
    "print(\"row-major order: \", row_major)\n",
    "\n",
    "col_major = []\n",
    "for j in range(n):\n",
    "    # for each column\n",
    "  for i in range(m):\n",
    "    # for each line\n",
    "    col_major.append(A[i,j])\n",
    "print(\"column-major order: \", col_major)\n"
   ]
  },
  {
   "cell_type": "code",
   "execution_count": null,
   "metadata": {
    "id": "Tsc_RV297t7D"
   },
   "outputs": [],
   "source": [
    "# o alta metoda de liniarizare folosind numpy\n",
    "print(A)\n",
    "print(A.shape, \"\\n\")\n",
    "rows, cols = A.shape\n",
    "\n",
    "row_major = np.reshape(A, (rows * cols))\n",
    "print(row_major)\n",
    "\n",
    "col_major = np.reshape(A.transpose(), (rows*cols))\n",
    "print(col_major)"
   ]
  },
  {
   "cell_type": "code",
   "execution_count": null,
   "metadata": {
    "id": "mim-bvdO8K_a"
   },
   "outputs": [],
   "source": [
    "np.reshape?"
   ]
  },
  {
   "cell_type": "markdown",
   "metadata": {
    "id": "ZBrdeUNX_V3C"
   },
   "source": [
    "**Exercitiu (4p)**\n",
    "\n",
    "**Reshape**\n",
    "- Se da o lista de $n$ puncte (coordonate x,y), in plan cartezian $2D$, cu valori aleatoare (e.g. image crop coordinates). \n",
    "- Notam cu $x_i$ coordonata pe dimensiunea 1 si cu $y_i$ coordanata pe dimensiunea 2. Coordonatele sunt date in format ($2*n$ numere): $ [ x_1, y_1, x_2, y_2,  ... x_n, y_n] $.\n",
    "\n",
    "\n",
    "- Putem interpeta lista de puncte in doua moduri:\n",
    "  - ```[(x1,y1),(x2,y2),(x3,y3),...(xn, yn)]```\n",
    "  - ```[(x1,x2,x3,...xn),(y1,y2,y3,...yn)]```\n",
    "\n",
    "\n",
    "**Cerinte**: \n",
    "- Folosind numpy arrays, afisati lista de coordonate in urmatoarele formate: **(0.5p)** \n",
    " - $ [x1, y1, x2, y2, x3, y3, ... xn, yn] $, considerand lista initiala ca fiind de forma ```[(x1,x2,x3 ... xn),...(y1,y2,y3 ..., yn)]```\n",
    " - $ [x1, x2, x3, ... xn, y1, y2, y3, ... yn] $, considerand lista initiala ca fiind de forma ```[(x1,y1),(x2,y2),(x3,y3) ... (xn, yn)]```\n",
    "\n",
    " *Nota*: `()` este folosit ca notatie matematica, reprezentand perechi de puncte, nu python tuples.\n",
    "\n",
    "- Creati o matrice cu dimensiunile *n x 2* care contine lista initiala de puncte in ordine **row-major**  **(0.5p)**\n",
    "- **Hint**: Puteti folosi ```np.reshape```\n",
    "- Creati o matrice cu dimensiunile *2 x n* care contine lista initiala de puncte in ordine **column-major**. **(0.5p)** \n",
    "- *Hint*: \n",
    "  - in format row-major avem:\n",
    "```\n",
    "[\n",
    "    [x1,y1],\n",
    "    [x2,y2],\n",
    "    [x3,y3] \n",
    "    ... \n",
    "    [xn, yn]\n",
    "] \n",
    "```\n",
    "    - observati parcurgera linie-coloana pentru interpretarea punctelor x,y.\n",
    "    - Ce shape are matricea?\n",
    "\n",
    "  - in format column-major avem:\n",
    "```\n",
    "[\n",
    "    [x1,x2,x3 ... xn],\n",
    "    [y1,y2,y3 ..., yn]\n",
    "]\n",
    "```\n",
    "   - observati parcurgera coloana-linie pentru interpretarea punctelor x,y.\n",
    "    - Ce shape are matricea?\n",
    "\n",
    "\n",
    "\n",
    "* Folosind oricare din matricele de la pasii anteriori: \n",
    "  -  Afisati doar punctele care au norma mai mare decat 0.5 . **(1p)** \n",
    "  -  Calculati centrul de greutate al punctelor si dispersia lor. **(1.5p)**\n"
   ]
  },
  {
   "cell_type": "code",
   "execution_count": null,
   "metadata": {
    "id": "GCMR7MxlAeFK"
   },
   "outputs": [],
   "source": [
    "import random\n",
    "import numpy as np\n",
    "\n",
    "\n",
    "# 5 puncte cu 2 cooordonate x,y\n",
    "n, m = 5, 2 \n",
    "\n",
    "# numarul de elemente din array-ul liniarizat\n",
    "k = n * m\n",
    "\n",
    "my_data_list = [random.random() for _ in range(k)]\n",
    "\n",
    "len(my_data_list)"
   ]
  },
  {
   "cell_type": "code",
   "execution_count": null,
   "metadata": {
    "id": "IeTSDy6EgZIM"
   },
   "outputs": [],
   "source": []
  },
  {
   "cell_type": "markdown",
   "metadata": {
    "id": "JF6-ylFLq6r_"
   },
   "source": [
    "## OPENCV / CV2"
   ]
  },
  {
   "cell_type": "code",
   "execution_count": null,
   "metadata": {
    "id": "oXMXR16Aqwko"
   },
   "outputs": [],
   "source": [
    "# Colab specific\n",
    "# upload test image\n",
    "from google.colab import files\n",
    "files.upload()"
   ]
  },
  {
   "cell_type": "code",
   "execution_count": null,
   "metadata": {
    "id": "NUxlb4xfq99P"
   },
   "outputs": [],
   "source": [
    "import cv2\n",
    "from google.colab.patches import cv2_imshow\n",
    "img = cv2.imread('baby_yoda.jpeg') # Citire imagine\n",
    "\n",
    "# afiseaza valorile pixelilor imaginii\n",
    "print(img)      "
   ]
  },
  {
   "cell_type": "code",
   "execution_count": null,
   "metadata": {
    "id": "0aaulpNWmDm-"
   },
   "outputs": [],
   "source": [
    "# afiseaza tipul de date al imaginii\n",
    "print(type(img))"
   ]
  },
  {
   "cell_type": "code",
   "execution_count": null,
   "metadata": {
    "id": "JwGv47jvmRej"
   },
   "outputs": [],
   "source": [
    "# afiseaza dimensiunea imaginii\n",
    "print(img.shape)"
   ]
  },
  {
   "cell_type": "code",
   "execution_count": null,
   "metadata": {
    "id": "1bzWlWXgmSX1"
   },
   "outputs": [],
   "source": [
    "# afiseaza imaginea\n",
    "cv2_imshow(img) # in afara Colab: cv2.imshow(\"nume_fereastra\", img)"
   ]
  },
  {
   "cell_type": "code",
   "execution_count": null,
   "metadata": {
    "id": "XBFp7zPwu8bj"
   },
   "outputs": [],
   "source": [
    "# deseneaza un patrat\n",
    "cv2.rectangle(img, (20, 30), (100, 100), (255, 0, 0), thickness=3) \n",
    "\n",
    "# deseneaza un patrat plin\n",
    "cv2.rectangle(img, (30, 40), (90, 90), (255, 0, 0), thickness=-1) \n",
    "\n",
    "# deseneaza un cerc\n",
    "image_center = (img.shape[1] // 2, img.shape[0] // 2)\n",
    "cv2.circle(img, image_center, 100, (0, 0, 255), thickness=50) \n",
    "cv2_imshow(img)"
   ]
  },
  {
   "cell_type": "code",
   "execution_count": null,
   "metadata": {
    "id": "RUqYHmAq1rEx"
   },
   "outputs": [],
   "source": [
    "new_img = cv2.resize(img, (256, 256))\n",
    "cv2_imshow(new_img)"
   ]
  },
  {
   "cell_type": "markdown",
   "metadata": {
    "id": "ih2BgMPJ1xWg"
   },
   "source": [
    "**Matplotlib si histograme de culoare**"
   ]
  },
  {
   "cell_type": "code",
   "execution_count": null,
   "metadata": {
    "id": "xaSH8nqywpCz"
   },
   "outputs": [],
   "source": [
    "import matplotlib.pyplot as plt\n",
    "\n",
    "plt.hist(np.reshape(img, (-1)), bins=255)\n",
    "plt.show()\n",
    "\n",
    "plt.subplot(3,1,1)\n",
    "plt.hist(np.reshape(img[:,:,0], (-1)), color='blue', bins=255)\n",
    "plt.subplot(3,1,2)\n",
    "plt.hist(np.reshape(img[:,:,1], (-1)), color='green', bins=255)\n",
    "plt.subplot(3,1,3)\n",
    "_ = plt.hist(np.reshape(img[:,:,2], (-1)), color='red', bins=255)"
   ]
  },
  {
   "cell_type": "markdown",
   "metadata": {
    "id": "lnNIUZvYwKWQ"
   },
   "source": [
    "**Exercitiu (4p)**\n",
    "\n",
    "- Incarcati o imagine in Google Colaboratory. Cititi imaginea de pe disk si afisati-o. **(0.5p)**"
   ]
  },
  {
   "cell_type": "code",
   "execution_count": null,
   "metadata": {
    "id": "ADEG2BXZrA0Y"
   },
   "outputs": [],
   "source": []
  },
  {
   "cell_type": "markdown",
   "metadata": {
    "id": "x_L52tHebmE9"
   },
   "source": [
    "- Afisati doar canalul rosu al imagini. Ordinea canalelor este BGR in OpenCV. **(0.5p)**"
   ]
  },
  {
   "cell_type": "code",
   "execution_count": null,
   "metadata": {
    "id": "yddqhowWb0E4"
   },
   "outputs": [],
   "source": []
  },
  {
   "cell_type": "markdown",
   "metadata": {
    "id": "_sLP5enPrBDj"
   },
   "source": [
    "- Cresteti luminozitatea imaginii cu 25% fata de cea originala. Afisati imaginea rezultata. **(1p)**\n",
    "\n",
    "\n",
    "\n",
    "\n",
    "Resurse: https://www.allaboutcircuits.com/technical-articles/digital-image-processing-point-operations/"
   ]
  },
  {
   "cell_type": "code",
   "execution_count": null,
   "metadata": {
    "id": "1NpF6dk2X5lJ"
   },
   "outputs": [],
   "source": []
  },
  {
   "cell_type": "markdown",
   "metadata": {
    "id": "uLO4kqqXrEru"
   },
   "source": [
    "- Cresteti contrastul imaginii cu 1.2x. Afisati imaginea rezultata. **(1p)**"
   ]
  },
  {
   "cell_type": "code",
   "execution_count": null,
   "metadata": {
    "id": "o39Xi_XqrFYL"
   },
   "outputs": [],
   "source": []
  },
  {
   "cell_type": "markdown",
   "metadata": {
    "id": "IBdkfH-jrFtJ"
   },
   "source": [
    "- Normalizati valorile pixelilor imaginii astfel incat acestea sa aiba valoare medie (mean) 0 si abaterea standard (stddev) 1. Afisati valorile normalizate. **(1p)**"
   ]
  }
 ],
 "metadata": {
  "accelerator": "GPU",
  "colab": {
   "collapsed_sections": [
    "IB_ZL1mkJPv9"
   ],
   "name": "lab1_python_numpy_opencv_teams.ipynb",
   "provenance": [],
   "toc_visible": true
  },
  "kernelspec": {
   "display_name": "Python 3 (ipykernel)",
   "language": "python",
   "name": "python3"
  },
  "language_info": {
   "codemirror_mode": {
    "name": "ipython",
    "version": 3
   },
   "file_extension": ".py",
   "mimetype": "text/x-python",
   "name": "python",
   "nbconvert_exporter": "python",
   "pygments_lexer": "ipython3",
   "version": "3.10.2"
  }
 },
 "nbformat": 4,
 "nbformat_minor": 1
}
